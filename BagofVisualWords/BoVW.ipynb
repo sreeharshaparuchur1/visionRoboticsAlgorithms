{
 "cells": [
  {
   "cell_type": "code",
   "execution_count": 2,
   "metadata": {},
   "outputs": [],
   "source": [
    "import numpy as np\n",
    "import cv2\n",
    "import os\n",
    "import pickle\n",
    "from math import *\n",
    "from glob import glob\n",
    "import time\n",
    "from sklearn.cluster import KMeans\n",
    "import matplotlib.pyplot as plt\n",
    "import seaborn as sns\n",
    "from sklearn.preprocessing import MinMaxScaler\n",
    "from sklearn.multiclass import OneVsRestClassifier\n",
    "from sklearn.svm import SVC\n",
    "from sklearn.cluster import MiniBatchKMeans\n",
    "from sklearn.metrics import f1_score\n",
    "from sklearn.metrics import accuracy_score\n",
    "import warnings\n",
    "warnings.filterwarnings(\"ignore\")\n",
    "from IPython.display import HTML, display"
   ]
  },
  {
   "cell_type": "code",
   "execution_count": 3,
   "metadata": {},
   "outputs": [],
   "source": [
    "visualization = []\n",
    "class VisualClass():\n",
    "    \n",
    "    def __init__(self, k, norm):\n",
    "        \n",
    "        self.k = k\n",
    "        self.normalize = norm\n",
    "        self.size = (150, 150)\n",
    "        self.classes = {1:'aquarium', 2:'desert', 3:'highway', 4:'kitchen', 5:'laundry', 6:'park', 7:'waterfall', 8:'windmill'}\n",
    "#         self.paths = ['./../dataset/SUN_data/train/aquarium/']\n",
    "        self.paths = ['./../dataset/SUN_data/train/aquarium/',\n",
    "                      './../dataset/SUN_data/train/desert/',\n",
    "                      './../dataset/SUN_data/train/highway/',\n",
    "                      './../dataset/SUN_data/train/kitchen/',\n",
    "                      './../dataset/SUN_data/train/laundry/',\n",
    "                      './../dataset/SUN_data/train/park/',\n",
    "                      './../dataset/SUN_data/train/waterfall/',\n",
    "                      './../dataset/SUN_data/train/windmill/']\n",
    "#         self.testPaths = ['./../dataset/SUN_data/test/aquarium/']\n",
    "        self.testPaths = ['./../dataset/SUN_data/test/aquarium/',\n",
    "                      './../dataset/SUN_data/test/desert/',\n",
    "                      './../dataset/SUN_data/test/highway/',\n",
    "                      './../dataset/SUN_data/test/kitchen/',\n",
    "                      './../dataset/SUN_data/test/laundry/',\n",
    "                      './../dataset/SUN_data/test/park/',\n",
    "                      './../dataset/SUN_data/test/waterfall/',\n",
    "                      './../dataset/SUN_data/test/windmill/']\n",
    "    \n",
    "    '''\n",
    "    Dense SIFT from scratch\n",
    "    '''\n",
    "\n",
    "    def PP(self, shape=(150,150),l=32,s=16): # PP is patch points - centre of the patches taken\n",
    "    \n",
    "        x = np.arange((l-1)//2,shape[1]-(l-1)//2-1,s)\n",
    "        y = np.arange((l-1)//2,shape[0]-(l-1)//2-1,s)\n",
    "        x,y = np.meshgrid(x,y)\n",
    "        kp = np.vstack((x.flatten(),y.flatten(),((x-x+1)*l).flatten())).T\n",
    "\n",
    "        return kp.tolist() \n",
    "    \n",
    "    \n",
    "    def dense_SIFT_kp(self, shape=(150,150)):\n",
    "\n",
    "        lis = []\n",
    "        lis.extend(self.PP(shape,l=10,s=15))\n",
    "        lis.extend(self.PP(shape,l=15,s=20))\n",
    "        lis.extend(self.PP(shape,l=25,s=20))\n",
    "\n",
    "        kp = []\n",
    "        for a,b,c in lis:\n",
    "            kp1 = cv2.KeyPoint(a,b,c)\n",
    "            kp.append(kp1)\n",
    "            \n",
    "        return kp\n",
    "\n",
    "    def sift_features(self, img):\n",
    "        \n",
    "        kp = self.dense_SIFT_kp()\n",
    "        sift = cv2.SIFT_create()\n",
    "        img = cv2.imread(img, 0)\n",
    "        img = cv2.resize(img, (150,150))\n",
    "        _ , vects = sift.compute(img, kp)\n",
    "\n",
    "        return vects\n",
    "        \n",
    "    def get_image_paths(self, train = True):\n",
    "        \n",
    "        allImages = []\n",
    "        \n",
    "        if train:\n",
    "            for path in self.paths:\n",
    "                for image in glob(path + \"*\"):\n",
    "                    allImages.append(image)\n",
    "        \n",
    "        else:\n",
    "            for path in self.testPaths:\n",
    "                for image in glob(path + \"*\"):\n",
    "                    allImages.append(image)            \n",
    "            \n",
    "        return allImages\n",
    "    \n",
    "    def get_sift_descriptor(self, imgPath):\n",
    "        \n",
    "        image = cv2.imread(imgPath, 0) #greyscale\n",
    "        image = cv2.resize(image, self.size, interpolation = cv2.INTER_AREA)\n",
    "        sift = cv2.SIFT_create()\n",
    "        keypoints, descriptors = sift.detectAndCompute(image, None)\n",
    "\n",
    "        return keypoints, descriptors\n",
    "\n",
    "    def get_clusters(self, descriptors):\n",
    "        \n",
    "        st = time.time()\n",
    "        kmeans = KMeans(n_clusters = self.k, random_state = 0).fit(descriptors)\n",
    "#         kmeans = MiniBatchKMeans(n_clusters = self.k, random_state = 0, batch_size = 128).fit(descriptors)\n",
    "        et = time.time()\n",
    "        print(f\"time taken to cluster into {self.k} clusters: {et - st}\")\n",
    "        \n",
    "        return kmeans\n",
    "    \n",
    "    def get_normalized(self, words):\n",
    "        \n",
    "        normalizedHistogram = np.zeros(self.k, dtype = np.float32)\n",
    "        cat, count = np.unique(words, return_counts = True)\n",
    "        count = np.array(count, dtype = np.float32)\n",
    "        if self.normalize:\n",
    "            count = count / sum(count)\n",
    "            count = np.nan_to_num(count, nan = 0.0)\n",
    "        for idx, word in enumerate(cat):\n",
    "            normalizedHistogram[word] = count[idx] \n",
    "        return normalizedHistogram\n",
    "\n",
    "    def get_histograms_labels(self, kmeans, train = True):\n",
    "        \n",
    "        global visualization\n",
    "        hist = []\n",
    "        lbls = []\n",
    "        lbl = 0\n",
    "        \n",
    "        if train:\n",
    "            PATH = self.paths\n",
    "        else:\n",
    "            PATH = self.testPaths\n",
    "            \n",
    "        for path in PATH:\n",
    "            print(lbl := lbl + 1)\n",
    "            for image in glob(path + \"*\"):\n",
    "                descriptors = []\n",
    "                kp, des = self.get_sift_descriptor(image)\n",
    "                try:\n",
    "                    for d in des:\n",
    "                        descriptors.append(d)\n",
    "                except:\n",
    "                    continue\n",
    "                descriptors = np.asarray(descriptors)\n",
    "                normalizedHistogram = self.get_normalized(kmeans.predict(descriptors))\n",
    "                visualization.append(normalizedHistogram)\n",
    "                hist.append(normalizedHistogram.tolist())\n",
    "                lbls.append(lbl)\n",
    "        return hist, lbls\n",
    "\n",
    "    def train_classifier(self, words, labels):\n",
    "        \n",
    "        words = np.asarray(words)\n",
    "        labels = np.asarray(labels).reshape(-1,1)\n",
    "        print(f\"training histograms: {words.shape}, shape of labels: {labels.shape}\")\n",
    "#         clf = OneVsRestClassifier(SVC(kernel='linear')).fit(words, labels)\n",
    "        clf = OneVsRestClassifier(SVC(kernel='rbf')).fit(words, labels)\n",
    "        \n",
    "        return clf\n",
    "    \n",
    "    def get_descriptors(self, train = True):\n",
    "        \n",
    "        st = time.time()\n",
    "        descriptors = []\n",
    "        imagePaths = self.get_image_paths(train)\n",
    "        \n",
    "        for iP in imagePaths:\n",
    "#             des = self.sift_features(iP) #DenseSIFT\n",
    "            _, des = self.get_sift_descriptor(iP)\n",
    "            try:\n",
    "                for d in des:\n",
    "                    descriptors.append(d)\n",
    "            except: \n",
    "                continue\n",
    "        \n",
    "        descriptors = np.asarray(descriptors)\n",
    "        et = time.time()\n",
    "        print(\"time taken to extract descriptors:\", et - st)     \n",
    "        return descriptors\n",
    "        \n",
    "    \n",
    "    def test(self, kmeans, clf):\n",
    "        \n",
    "        confusionMatrix = np.zeros((8,8))\n",
    "        descriptors = self.get_descriptors(train = False)\n",
    "        histograms, labels = self.get_histograms_labels(kmeans, train = False)\n",
    "        histograms = np.array(histograms)\n",
    "        preds = clf.predict(histograms)\n",
    "        incorrectlyClassified = [] # image number, prediction, actual\n",
    "        for prediction in range(len(preds)):\n",
    "            confusionMatrix[labels[prediction] - 1][preds[prediction] - 1] += 1\n",
    "            if(labels[prediction] != preds[prediction]):\n",
    "                incorrectlyClassified.append((prediction, (labels[prediction], preds[prediction])))\n",
    "#         print(np.unique(preds, return_counts = True))\n",
    "        print(f\"The F1 score for the classifier is {f1_score(labels, preds, average = 'macro')}\")\n",
    "        print(f\"The accuracy of the classifier is {accuracy_score(labels, preds)}\")\n",
    "        print(f\"The confusion matrix: \\n {confusionMatrix}\")\n",
    "        return incorrectlyClassified\n",
    "        \n",
    "    def method(self):\n",
    "        \n",
    "        descriptors = self.get_descriptors()\n",
    "        kmeans = self.get_clusters(descriptors)\n",
    "        histograms, labels = self.get_histograms_labels(kmeans)\n",
    "        \n",
    "        clf = self.train_classifier(histograms, labels)\n",
    "        \n",
    "        return self.test(kmeans, clf)\n",
    "        \n",
    "    \n"
   ]
  },
  {
   "cell_type": "markdown",
   "metadata": {},
   "source": [
    "## Observations\n",
    "\n",
    "We perform the classification multiple times and vary various hyper parameters in each iteration (ex - 'k' in k-means, normalized histogram or not, kmeans or MiniBatchKMeans just to name a few).\n",
    "\n",
    "We observe that although the computation time for MiniBatchKMeans with batch size as 128 (2^7) is significantly faster (40 - 50 times faster), it yeilds worse classification results when compared to the standard Kmeans. Similarly, we observe that classification is performed better on normalized histograms so we present results for varying the hyper paramter 'k' using the kmeans function and normalized histograms. We find k = 150 to be an optimal value for the number of visual words for this dataset.\n",
    "\n",
    "We experimentally that the optimal value for the number of clusters is 150.\n",
    "\n",
    "We're required to use a linear kernal but we also experiment with the more popular rbf kernal."
   ]
  },
  {
   "cell_type": "code",
   "execution_count": 18,
   "metadata": {
    "scrolled": true
   },
   "outputs": [
    {
     "name": "stdout",
     "output_type": "stream",
     "text": [
      "time taken to extract descriptors: 3.825451135635376\n",
      "time taken to cluster into 150 clusters: 411.7808520793915\n",
      "1\n",
      "2\n",
      "3\n",
      "4\n",
      "5\n",
      "6\n",
      "7\n",
      "8\n",
      "training histograms: (640, 150), shape of labels: (640, 1)\n",
      "time taken to extract descriptors: 1.0721371173858643\n",
      "1\n",
      "2\n",
      "3\n",
      "4\n",
      "5\n",
      "6\n",
      "7\n",
      "8\n",
      "The F1 score for the classifier is 0.4139768583901655\n",
      "The accuracy of the classifier is 0.4375\n",
      "The confusion matrix: \n",
      " [[17.  1.  1.  0.  0.  1.  0.  0.]\n",
      " [ 3. 12.  0.  2.  0.  0.  1.  2.]\n",
      " [ 1. 10.  3.  1.  2.  1.  0.  2.]\n",
      " [ 4.  1.  1.  8.  4.  2.  0.  0.]\n",
      " [ 1.  1.  0.  6.  8.  2.  1.  1.]\n",
      " [ 6.  0.  0.  1.  0. 11.  1.  1.]\n",
      " [ 4.  1.  0.  2.  1.  3.  8.  1.]\n",
      " [ 3.  5.  3.  3.  0.  1.  2.  3.]]\n"
     ]
    }
   ],
   "source": [
    "normHistClass = VisualClass(150, norm = True)\n",
    "incorrectlyClassifiedNormalized = normHistClass.method()"
   ]
  },
  {
   "cell_type": "code",
   "execution_count": 24,
   "metadata": {
    "scrolled": true
   },
   "outputs": [
    {
     "name": "stdout",
     "output_type": "stream",
     "text": [
      "time taken to extract descriptors: 3.930964231491089\n",
      "time taken to cluster into 150 clusters: 413.1388761997223\n",
      "1\n",
      "2\n",
      "3\n",
      "4\n",
      "5\n",
      "6\n",
      "7\n",
      "8\n",
      "training histograms: (640, 150), shape of labels: (640, 1)\n",
      "time taken to extract descriptors: 1.1277637481689453\n",
      "1\n",
      "2\n",
      "3\n",
      "4\n",
      "5\n",
      "6\n",
      "7\n",
      "8\n",
      "The F1 score for the classifier is 0.521635836865818\n",
      "The accuracy of the classifier is 0.5375\n",
      "The confusion matrix: \n",
      " [[16.  0.  0.  0.  1.  2.  0.  1.]\n",
      " [ 2. 14.  1.  0.  1.  0.  1.  1.]\n",
      " [ 1.  5.  8.  1.  1.  1.  1.  2.]\n",
      " [ 3.  1.  1. 10.  3.  1.  0.  1.]\n",
      " [ 2.  1.  0.  6.  9.  0.  1.  1.]\n",
      " [ 3.  0.  0.  1.  0. 14.  1.  1.]\n",
      " [ 2.  0.  0.  2.  0.  3. 12.  1.]\n",
      " [ 2.  6.  2.  1.  2.  1.  3.  3.]]\n"
     ]
    }
   ],
   "source": [
    "normHistClass = VisualClass(150, norm = True)\n",
    "\n",
    "'''\n",
    "RBF kernel\n",
    "'''\n",
    "\n",
    "incorrectlyClassifiedNormalized = normHistClass.method()"
   ]
  },
  {
   "cell_type": "code",
   "execution_count": 26,
   "metadata": {
    "scrolled": true
   },
   "outputs": [
    {
     "name": "stdout",
     "output_type": "stream",
     "text": [
      "time taken to extract descriptors: 5.043799161911011\n",
      "time taken to cluster into 200 clusters: 446.9779920578003\n",
      "1\n",
      "2\n",
      "3\n",
      "4\n",
      "5\n",
      "6\n",
      "7\n",
      "8\n",
      "training histograms: (640, 200), shape of labels: (640, 1)\n",
      "time taken to extract descriptors: 0.9756238460540771\n",
      "1\n",
      "2\n",
      "3\n",
      "4\n",
      "5\n",
      "6\n",
      "7\n",
      "8\n",
      "The F1 score for the classifier is 0.4538349261903074\n",
      "The accuracy of the classifier is 0.475\n",
      "The confusion matrix: \n",
      " [[13.  1.  0.  1.  1.  2.  0.  2.]\n",
      " [ 2. 15.  0.  1.  1.  0.  1.  0.]\n",
      " [ 1.  4.  5.  4.  1.  1.  2.  2.]\n",
      " [ 2.  2.  1. 11.  1.  2.  1.  0.]\n",
      " [ 2.  1.  1.  8.  7.  0.  1.  0.]\n",
      " [ 1.  0.  0.  0.  0. 14.  3.  2.]\n",
      " [ 5.  0.  1.  0.  0.  4.  8.  2.]\n",
      " [ 3.  6.  1.  2.  0.  3.  2.  3.]]\n"
     ]
    }
   ],
   "source": [
    "normHistClass = VisualClass(200, norm = True)\n",
    "\n",
    "'''\n",
    "RBF kernel\n",
    "'''\n",
    "\n",
    "incorrectlyClassifiedNormalized = normHistClass.method()"
   ]
  },
  {
   "cell_type": "code",
   "execution_count": 19,
   "metadata": {
    "scrolled": true
   },
   "outputs": [
    {
     "name": "stdout",
     "output_type": "stream",
     "text": [
      "time taken to extract descriptors: 4.277925968170166\n",
      "time taken to cluster into 150 clusters: 412.3886065483093\n",
      "1\n",
      "2\n",
      "3\n",
      "4\n",
      "5\n",
      "6\n",
      "7\n",
      "8\n",
      "training histograms: (640, 150), shape of labels: (640, 1)\n",
      "time taken to extract descriptors: 1.1805388927459717\n",
      "1\n",
      "2\n",
      "3\n",
      "4\n",
      "5\n",
      "6\n",
      "7\n",
      "8\n",
      "The F1 score for the classifier is 0.40909576058317476\n",
      "The accuracy of the classifier is 0.41875\n",
      "The confusion matrix: \n",
      " [[14.  0.  1.  1.  1.  2.  0.  1.]\n",
      " [ 1. 11.  1.  0.  2.  0.  4.  1.]\n",
      " [ 0.  5.  8.  2.  1.  2.  0.  2.]\n",
      " [ 2.  1.  1.  4.  7.  1.  1.  3.]\n",
      " [ 1.  2.  2.  2.  7.  2.  3.  1.]\n",
      " [ 2.  0.  2.  1.  1. 10.  2.  2.]\n",
      " [ 3.  1.  1.  1.  0.  5.  7.  2.]\n",
      " [ 3.  2.  2.  1.  1.  3.  2.  6.]]\n"
     ]
    }
   ],
   "source": [
    "HistClass = VisualClass(150, norm = False)\n",
    "incorrectlyClassified = HistClass.method()\n"
   ]
  },
  {
   "cell_type": "code",
   "execution_count": 25,
   "metadata": {
    "scrolled": true
   },
   "outputs": [
    {
     "name": "stdout",
     "output_type": "stream",
     "text": [
      "time taken to extract descriptors: 4.275648593902588\n",
      "time taken to cluster into 150 clusters: 424.9461364746094\n",
      "1\n",
      "2\n",
      "3\n",
      "4\n",
      "5\n",
      "6\n",
      "7\n",
      "8\n",
      "training histograms: (640, 150), shape of labels: (640, 1)\n",
      "time taken to extract descriptors: 1.2225072383880615\n",
      "1\n",
      "2\n",
      "3\n",
      "4\n",
      "5\n",
      "6\n",
      "7\n",
      "8\n",
      "The F1 score for the classifier is 0.49656773444752944\n",
      "The accuracy of the classifier is 0.51875\n",
      "The confusion matrix: \n",
      " [[15.  0.  1.  0.  0.  3.  0.  1.]\n",
      " [ 3. 13.  0.  1.  1.  1.  1.  0.]\n",
      " [ 1.  7.  5.  3.  2.  0.  1.  1.]\n",
      " [ 2.  2.  1. 10.  3.  1.  0.  1.]\n",
      " [ 2.  1.  1.  6.  9.  0.  1.  0.]\n",
      " [ 3.  0.  0.  0.  0. 16.  0.  1.]\n",
      " [ 2.  1.  0.  1.  0.  4. 12.  0.]\n",
      " [ 1.  7.  3.  1.  1.  2.  2.  3.]]\n"
     ]
    }
   ],
   "source": [
    "normHistClass = VisualClass(150, norm = False)\n",
    "\n",
    "'''\n",
    "RBF kernel\n",
    "'''\n",
    "\n",
    "incorrectlyClassifiedNormalized = normHistClass.method()"
   ]
  },
  {
   "cell_type": "code",
   "execution_count": 20,
   "metadata": {
    "scrolled": true
   },
   "outputs": [
    {
     "name": "stdout",
     "output_type": "stream",
     "text": [
      "time taken to extract descriptors: 5.088866710662842\n",
      "time taken to cluster into 200 clusters: 482.36343455314636\n",
      "1\n",
      "2\n",
      "3\n",
      "4\n",
      "5\n",
      "6\n",
      "7\n",
      "8\n",
      "training histograms: (640, 200), shape of labels: (640, 1)\n",
      "time taken to extract descriptors: 0.9845433235168457\n",
      "1\n",
      "2\n",
      "3\n",
      "4\n",
      "5\n",
      "6\n",
      "7\n",
      "8\n",
      "The F1 score for the classifier is 0.4560289978627243\n",
      "The accuracy of the classifier is 0.475\n",
      "The confusion matrix: \n",
      " [[16.  1.  0.  0.  1.  2.  0.  0.]\n",
      " [ 2. 13.  0.  2.  1.  0.  0.  2.]\n",
      " [ 1.  9.  5.  2.  3.  0.  0.  0.]\n",
      " [ 2.  1.  3. 10.  1.  1.  0.  2.]\n",
      " [ 2.  1.  2.  2. 11.  0.  1.  1.]\n",
      " [ 2.  1.  0.  0.  1. 11.  3.  2.]\n",
      " [ 6.  1.  0.  0.  0.  4.  8.  1.]\n",
      " [ 5.  6.  2.  0.  2.  2.  1.  2.]]\n"
     ]
    }
   ],
   "source": [
    "normHistClass = VisualClass(200, norm = True)\n",
    "incorrectlyClassifiedNormalized = normHistClass.method()\n"
   ]
  },
  {
   "cell_type": "code",
   "execution_count": 21,
   "metadata": {
    "scrolled": true
   },
   "outputs": [
    {
     "name": "stdout",
     "output_type": "stream",
     "text": [
      "time taken to extract descriptors: 3.9686901569366455\n",
      "time taken to cluster into 250 clusters: 427.5921537876129\n",
      "1\n",
      "2\n",
      "3\n",
      "4\n",
      "5\n",
      "6\n",
      "7\n",
      "8\n",
      "training histograms: (640, 250), shape of labels: (640, 1)\n",
      "time taken to extract descriptors: 1.0092902183532715\n",
      "1\n",
      "2\n",
      "3\n",
      "4\n",
      "5\n",
      "6\n",
      "7\n",
      "8\n",
      "The F1 score for the classifier is 0.40468019237437514\n",
      "The accuracy of the classifier is 0.43125\n",
      "The confusion matrix: \n",
      " [[14.  1.  0.  1.  1.  2.  1.  0.]\n",
      " [ 2. 13.  0.  1.  2.  0.  0.  2.]\n",
      " [ 1. 10.  3.  2.  1.  1.  1.  1.]\n",
      " [ 1.  1.  1. 12.  4.  1.  0.  0.]\n",
      " [ 1.  4.  0.  8.  5.  0.  2.  0.]\n",
      " [ 3.  2.  0.  1.  0. 11.  3.  0.]\n",
      " [ 6.  1.  0.  0.  0.  4.  8.  1.]\n",
      " [ 2.  6.  3.  2.  0.  1.  3.  3.]]\n"
     ]
    }
   ],
   "source": [
    "normHistClass = VisualClass(250, norm = True)\n",
    "incorrectlyClassifiedNormalized = normHistClass.method()"
   ]
  },
  {
   "cell_type": "code",
   "execution_count": 4,
   "metadata": {
    "scrolled": true
   },
   "outputs": [
    {
     "name": "stdout",
     "output_type": "stream",
     "text": [
      "time taken to extract descriptors: 8.242267608642578\n",
      "time taken to cluster into 300 clusters: 754.6179111003876\n",
      "1\n",
      "2\n",
      "3\n",
      "4\n",
      "5\n",
      "6\n",
      "7\n",
      "8\n",
      "training histograms: (640, 300), shape of labels: (640, 1)\n",
      "time taken to extract descriptors: 1.0494000911712646\n",
      "1\n",
      "2\n",
      "3\n",
      "4\n",
      "5\n",
      "6\n",
      "7\n",
      "8\n",
      "The F1 score for the classifier is 0.5018101514053553\n",
      "The accuracy of the classifier is 0.51875\n",
      "The confusion matrix: \n",
      " [[14.  3.  0.  1.  1.  1.  0.  0.]\n",
      " [ 2. 15.  0.  1.  1.  0.  1.  0.]\n",
      " [ 1.  3.  8.  2.  3.  0.  1.  2.]\n",
      " [ 3.  2.  1. 10.  3.  0.  1.  0.]\n",
      " [ 2.  1.  0.  8.  9.  0.  0.  0.]\n",
      " [ 2.  0.  0.  0.  2. 14.  1.  1.]\n",
      " [ 4.  0.  0.  2.  0.  4. 10.  0.]\n",
      " [ 1.  5.  5.  1.  0.  2.  3.  3.]]\n"
     ]
    }
   ],
   "source": [
    "normHistClass = VisualClass(300, norm = True)\n",
    "incorrectlyClassifiedNormalized = normHistClass.method()"
   ]
  },
  {
   "cell_type": "code",
   "execution_count": 22,
   "metadata": {
    "scrolled": true
   },
   "outputs": [
    {
     "name": "stdout",
     "output_type": "stream",
     "text": [
      "time taken to extract descriptors: 3.8011221885681152\n",
      "time taken to cluster into 64 clusters: 301.8836455345154\n",
      "1\n",
      "2\n",
      "3\n",
      "4\n",
      "5\n",
      "6\n",
      "7\n",
      "8\n",
      "training histograms: (640, 64), shape of labels: (640, 1)\n",
      "time taken to extract descriptors: 0.9687941074371338\n",
      "1\n",
      "2\n",
      "3\n",
      "4\n",
      "5\n",
      "6\n",
      "7\n",
      "8\n",
      "The F1 score for the classifier is 0.36217513748026237\n",
      "The accuracy of the classifier is 0.39375\n",
      "The confusion matrix: \n",
      " [[14.  0.  1.  0.  1.  4.  0.  0.]\n",
      " [ 3. 13.  1.  2.  0.  1.  0.  0.]\n",
      " [ 1. 10.  3.  3.  2.  0.  1.  0.]\n",
      " [ 3.  0.  1. 11.  2.  1.  1.  1.]\n",
      " [ 1.  2.  3.  9.  2.  1.  1.  1.]\n",
      " [ 7.  1.  0.  0.  1. 10.  0.  1.]\n",
      " [ 5.  1.  0.  1.  0.  6.  7.  0.]\n",
      " [ 3.  6.  3.  1.  0.  3.  1.  3.]]\n"
     ]
    }
   ],
   "source": [
    "normHistClass = VisualClass(64, norm = True)\n",
    "incorrectlyClassifiedNormalized = normHistClass.method()"
   ]
  },
  {
   "cell_type": "markdown",
   "metadata": {},
   "source": [
    "## Correctly Classified Images\n",
    "\n",
    "In the image of the kitchen, we see that it's free from noise in the sense that all of the objects (and therefore all of the descriptors) consist of the kitchen and not other items (some imges have cats in the kitchen, not that you can blame them for it though). \n",
    "\n",
    "<img src=\"sun_avercuwadimcdyrt.jpg\" alt=\"Drawing\" style=\"width: 200px;\"/>\n",
    "\n",
    "\n",
    "Similarly, in the cause of the laundary room, we see that it is free from noise from 'non-laundry room' features and thus descriptors. Also, the machine pictured is repeated multiple times in the image, the visual word for that feature will be highly activated, thus leading to the accurate classification.\n",
    "\n",
    "<img src=\"sun_awytptirbthbwszg.jpg\" alt=\"Drawing\" style=\"width: 200px;\"/>\n",
    "\n",
    "\n",
    "\n",
    "## Misclassified Images\n",
    "\n",
    "With the help of the below list, we see that the following images have been misclassified. \n",
    "\n",
    "<img src=\"sun_auxuxzrqwkdkbbdn.jpg\" alt=\"Drawing\" style=\"width: 200px;\"/>\n",
    "\n",
    "This image of the aquarium was mistaken for that of the park, this is possibly due to the lack of highly textured, unique features in the image. As SIFT is computed on a greyscale image, the textureless region of the water would be treated similarly to the (for the most part) textureless park.\n",
    "\n",
    "We see a simliar problem with the following images of a desert which is classified as an aquarium.\n",
    "\n",
    "<img src=\"sun_bxbamozeyisndgrd.jpg\" alt=\"Drawing\" style=\"width: 200px;\"/>\n",
    "\n"
   ]
  },
  {
   "cell_type": "code",
   "execution_count": 148,
   "metadata": {},
   "outputs": [
    {
     "name": "stdout",
     "output_type": "stream",
     "text": [
      "[(3, (1, 6)), (5, (1, 4)), (6, (1, 8)), (7, (1, 6)), (10, (1, 7)), (12, (1, 7)), (15, (1, 2)), (19, (1, 8)), (20, (2, 4)), (23, (2, 7)), (24, (2, 1)), (31, (2, 5)), (32, (2, 1)), (33, (2, 4)), (40, (3, 4)), (42, (3, 5)), (43, (3, 2)), (44, (3, 1)), (48, (3, 2)), (49, (3, 4)), (50, (3, 2)), (51, (3, 7)), (52, (3, 2)), (53, (3, 5)), (55, (3, 2)), (56, (3, 5)), (57, (3, 2)), (58, (3, 7)), (59, (3, 5)), (60, (4, 5)), (62, (4, 8)), (63, (4, 1)), (66, (4, 5)), (67, (4, 2)), (75, (4, 7)), (78, (4, 5)), (80, (6, 7)), (81, (6, 5)), (83, (6, 1)), (84, (6, 1)), (85, (6, 5)), (88, (6, 5)), (89, (6, 1)), (91, (6, 1)), (92, (6, 1)), (95, (6, 7)), (101, (7, 1)), (103, (7, 1)), (104, (7, 6)), (105, (7, 6)), (107, (7, 6)), (108, (7, 1)), (109, (7, 3)), (112, (7, 4)), (115, (7, 1)), (118, (7, 6)), (120, (8, 2)), (121, (8, 2)), (122, (8, 6)), (123, (8, 5)), (124, (8, 3)), (125, (8, 1)), (126, (8, 2)), (127, (8, 2)), (128, (8, 3)), (129, (8, 5)), (130, (8, 2)), (131, (8, 7)), (132, (8, 7)), (133, (8, 3)), (134, (8, 3)), (136, (8, 2)), (138, (8, 4)), (139, (8, 6))]\n"
     ]
    }
   ],
   "source": [
    "print(incorrectlyClassifiedNormalized) #image number (0 - 159), actual label, predicted label :("
   ]
  },
  {
   "cell_type": "markdown",
   "metadata": {},
   "source": [
    "## Visual Words for a few scenes\n",
    "\n",
    "Below, we plot the normalized Bag of Visual Words for the first four scenes of the dataset. We see that the 'Bag' differs significantly among the first three imagees. However, the fourth image (which is similar to the first) has a similar distribution of visual words in its histogram representation."
   ]
  },
  {
   "cell_type": "code",
   "execution_count": 150,
   "metadata": {},
   "outputs": [
    {
     "data": {
      "image/png": "[encoded data removed]",
      "text/plain": [
       "<Figure size 1280x1280 with 1 Axes>"
      ]
     },
     "metadata": {
      "needs_background": "light"
     },
     "output_type": "display_data"
    },
    {
     "data": {
      "image/png": "[encoded data removed]",
      "text/plain": [
       "<Figure size 1280x1280 with 1 Axes>"
      ]
     },
     "metadata": {
      "needs_background": "light"
     },
     "output_type": "display_data"
    },
    {
     "data": {
      "image/png": "[encoded data removed]",
      "text/plain": [
       "<Figure size 1280x1280 with 1 Axes>"
      ]
     },
     "metadata": {
      "needs_background": "light"
     },
     "output_type": "display_data"
    },
    {
     "data": {
      "image/png": "[encoded data removed]",
      "text/plain": [
       "<Figure size 1280x1280 with 1 Axes>"
      ]
     },
     "metadata": {
      "needs_background": "light"
     },
     "output_type": "display_data"
    }
   ],
   "source": [
    "def plot_histogram(pc):\n",
    "    \n",
    "#     print(pc)\n",
    "    fig = plt.figure(figsize = (16,16), dpi = 80)\n",
    "    ax = fig.add_axes([0,0,1,1])\n",
    "    langs = range(150)\n",
    "    students = pc\n",
    "    ax.bar(langs,students)\n",
    "    plt.show()\n",
    "    \n",
    "for i in range(4):\n",
    "    plot_histogram(visualization[i])"
   ]
  },
  {
   "cell_type": "markdown",
   "metadata": {},
   "source": [
    "## Dense SIFT features vs OpenCV SIFT features\n",
    "\n",
    "We observe a noticeable difference in the way that these methods act on a given image. The Dense SIFT sampling creates a keypoint at every 'patch point', however, the OpenCV implementation only computes feature descriptors on 'interesting' parts of the image. We observe that having so many 'noisy' features when using Dense SIFT hinders the accuracy of our classifier, however, it still does better than the chance accuracy of 12.5%. It also takes longer to compute dense sift features for an image as well as taking longer to perform k-means clustering on - however, this metric varies with the size of the query image.\n",
    "\n",
    "<table><tr><td><img src='loweSift.png'></td><td><img src='DenseSift.png'></td></tr></table>"
   ]
  },
  {
   "cell_type": "code",
   "execution_count": null,
   "metadata": {},
   "outputs": [],
   "source": []
  }
 ],
 "metadata": {
  "kernelspec": {
   "display_name": "Python 3",
   "language": "python",
   "name": "python3"
  },
  "language_info": {
   "codemirror_mode": {
    "name": "ipython",
    "version": 3
   },
   "file_extension": ".py",
   "mimetype": "text/x-python",
   "name": "python",
   "nbconvert_exporter": "python",
   "pygments_lexer": "ipython3",
   "version": "3.8.5"
  }
 },
 "nbformat": 4,
 "nbformat_minor": 4
}
